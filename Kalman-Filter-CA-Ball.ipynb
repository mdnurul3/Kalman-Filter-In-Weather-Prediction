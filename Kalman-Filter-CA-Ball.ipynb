{
 "cells": [
  {
   "cell_type": "code",
   "execution_count": null,
   "metadata": {},
   "outputs": [],
   "source": [
    "import numpy as np\n",
    "import pandas as pd\n",
    "import matplotlib.pyplot as plt\n",
    "from mpl_toolkits.mplot3d import Axes3D\n",
    "from IPython.display import YouTubeVideo\n",
    "from scipy.stats import norm\n",
    "from sklearn.metrics import mean_squared_error, mean_absolute_error,explained_variance_score\n",
    "from statistics import variance"
   ]
  },
  {
   "cell_type": "code",
   "execution_count": null,
   "metadata": {},
   "outputs": [],
   "source": [
    "%matplotlib inline\n",
    "fw=10 # figure width"
   ]
  },
  {
   "cell_type": "markdown",
   "metadata": {},
   "source": [
    "# Multidimensional Kalman Filter"
   ]
  },
  {
   "cell_type": "markdown",
   "metadata": {},
   "source": [
    "## for a Constant Acceleration Model (CA)"
   ]
  },
  {
   "cell_type": "markdown",
   "metadata": {},
   "source": [
    "Situation covered: You have a Position Sensor (e.g. a Vision System) and try to calculate velocity ($\\dot x$ and $\\dot y$) as well as position ($x$ and $y$) of a ball in 3D space.\n",
    "\n",
    "Additionally, we estimate the gravitational acceleration g. :)"
   ]
  },
  {
   "cell_type": "code",
   "execution_count": null,
   "metadata": {},
   "outputs": [],
   "source": [
    "YouTubeVideo(\"tIIJME8-au8\")"
   ]
  },
  {
   "cell_type": "markdown",
   "metadata": {},
   "source": [
    "## State Vector - Constant Acceleration"
   ]
  },
  {
   "cell_type": "markdown",
   "metadata": {},
   "source": [
    "Constant Acceleration Model for Motion in 3D\n",
    "\n",
    "$$x= \\left[ \\matrix{ x \\\\ y \\\\ z \\\\ \\dot x \\\\ \\dot y \\\\ \\dot z \\\\ \\ddot x \\\\ \\ddot y \\\\ \\ddot z} \\right]$$\n",
    "\n"
   ]
  },
  {
   "cell_type": "markdown",
   "metadata": {},
   "source": [
    "Formal Definition:\n",
    "\n",
    "$$x_{k+1} = A \\cdot x_{k}$$\n",
    "\n",
    "Hence, we have no control input $u$.\n",
    "\n",
    "$$x_{k+1} = \\begin{bmatrix}1 & 0 & 0 & \\Delta t & 0 & 0 & \\frac{1}{2}\\Delta t^2 & 0 & 0 \\\\ 0 & 1 & 0 & 0 & \\Delta t & 0 & 0 & \\frac{1}{2}\\Delta t^2 & 0 \\\\ 0 & 0 & 1 & 0 & 0 & \\Delta t & 0 & 0 & \\frac{1}{2}\\Delta t^2 \\\\ 0 & 0 & 0 & 1 & 0 & 0 & \\Delta t & 0 & 0 \\\\ 0 & 0 & 0 & 0 & 1 & 0 & 0 & \\Delta t & 0 \\\\ 0 & 0 & 0 & 0 & 0 & 1 & 0 & 0 & \\Delta t \\\\ 0 & 0 & 0 & 0 & 0 & 0 & 1 & 0 & 0\\\\ 0 & 0 & 0 & 0 & 0 & 0 & 0 & 1 & 0\\\\ 0 & 0 & 0 & 0 & 0 & 0 & 0 & 0 & 1 \\end{bmatrix} \\cdot \\begin{bmatrix} x \\\\ y \\\\ z \\\\ \\dot x \\\\ \\dot y \\\\ \\dot z \\\\ \\ddot x \\\\ \\ddot y \\\\ \\ddot z\\end{bmatrix}_{k}$$\n",
    "\n",
    "$$y = H \\cdot x$$\n",
    "\n",
    "Position ($x$ & $y$ & $z$) is measured with vision system:\n",
    "\n",
    "$$y = \\begin{bmatrix}1 & 0 & 0 & 0 & 0 & 0 & 0 & 0 & 0 \\\\ 0 & 1 & 0 & 0 & 0 & 0 & 0 & 0 & 0 \\\\ 0 & 0 & 1 & 0 & 0 & 0 & 0 & 0 & 0 \\end{bmatrix} \\cdot x$$"
   ]
  },
  {
   "cell_type": "markdown",
   "metadata": {},
   "source": [
    "#### Initial Uncertainty"
   ]
  },
  {
   "cell_type": "code",
   "execution_count": null,
   "metadata": {},
   "outputs": [],
   "source": [
    "P = 1.0*np.eye(9)\n",
    "\n",
    "fig = plt.figure(figsize=(6, 6))\n",
    "im = plt.imshow(P, interpolation=\"none\", cmap=plt.get_cmap('binary'))\n",
    "plt.title('Initial Covariance Matrix $P$')\n",
    "ylocs, ylabels = plt.yticks()\n",
    "# set the locations of the yticks\n",
    "plt.yticks(np.arange(10))\n",
    "# set the locations and labels of the yticks\n",
    "plt.yticks(np.arange(9),('$x$', '$y$', '$z$', '$\\dot x$', '$\\dot y$', '$\\dot z$', '$\\ddot x$', '$\\ddot y$', '$\\ddot z$'), fontsize=22)\n",
    "\n",
    "xlocs, xlabels = plt.xticks()\n",
    "# set the locations of the yticks\n",
    "plt.xticks(np.arange(7))\n",
    "# set the locations and labels of the yticks\n",
    "plt.xticks(np.arange(9),('$x$', '$y$', '$z$', '$\\dot x$', '$\\dot y$', '$\\dot z$', '$\\ddot x$', '$\\ddot y$', '$\\ddot z$'), fontsize=22)\n",
    "\n",
    "plt.xlim([-0.5,8.5])\n",
    "plt.ylim([8.5, -0.5])\n",
    "\n",
    "from mpl_toolkits.axes_grid1 import make_axes_locatable\n",
    "divider = make_axes_locatable(plt.gca())\n",
    "cax = divider.append_axes(\"right\", \"5%\", pad=\"3%\")\n",
    "plt.colorbar(im, cax=cax)\n",
    "\n",
    "\n",
    "plt.tight_layout()"
   ]
  },
  {
   "cell_type": "code",
   "execution_count": null,
   "metadata": {},
   "outputs": [],
   "source": []
  },
  {
   "cell_type": "markdown",
   "metadata": {},
   "source": [
    "## Dynamic Matrix"
   ]
  },
  {
   "cell_type": "code",
   "execution_count": null,
   "metadata": {},
   "outputs": [],
   "source": [
    "dt = 1.0/100.0 # Time Step between Filter Steps, 100Hz\n",
    "\n",
    "A = np.matrix([[1.0, 0.0, 0.0, 0.0, 0.0, 0.0, 0.0, 0.0, 0.0],\n",
    "              [0.0, 1.0, 0.0, 0.0, 0.0, 0.0, 0.0, 0.0, 0.0],\n",
    "              [0.0, 0.0, 1.0, 0.0, 0.0, 0.0, 0.0, 0.0,0.0],\n",
    "              [0.0, 0.0, 0.0, 1.0, 0.0, 0.0,  dt, 0.0, 0.0],\n",
    "              [0.0, 0.0, 0.0, 0.0, 1.0, 0.0, 0.0,  dt, 0.0],\n",
    "              [0.0, 0.0, 0.0, 0.0, 0.0, 1.0, 0.0, 0.0,  dt],\n",
    "              [0.0, 0.0, 0.0, 0.0, 0.0, 0.0, 1.0, 0.0, 0.0],\n",
    "              [0.0, 0.0, 0.0, 0.0, 0.0, 0.0, 0.0, 1.0, 0.0],\n",
    "              [0.0, 0.0, 0.0, 0.0, 0.0, 0.0, 0.0, 0.0, 1.0]])\n",
    "print(A.shape)"
   ]
  },
  {
   "cell_type": "markdown",
   "metadata": {},
   "source": [
    "## Measurement Matrix"
   ]
  },
  {
   "cell_type": "markdown",
   "metadata": {},
   "source": [
    "Here you can determine, which of the states is covered by a measurement. In this example, the position ($x$ and $y$) is measured."
   ]
  },
  {
   "cell_type": "code",
   "execution_count": null,
   "metadata": {},
   "outputs": [],
   "source": [
    "H = np.matrix([[1.0, 0.0, 0.0, 0.0, 0.0, 0.0, 0.0, 0.0, 0.0],\n",
    "               [0.0, 1.0, 0.0, 0.0, 0.0, 0.0, 0.0, 0.0, 0.0],\n",
    "               [0.0, 0.0, 1.0, 0.0, 0.0, 0.0, 0.0, 0.0, 0.0]])\n",
    "print(H, H.shape)"
   ]
  },
  {
   "cell_type": "markdown",
   "metadata": {},
   "source": [
    "## Measurement Noise Covariance Matrix $R$"
   ]
  },
  {
   "cell_type": "code",
   "execution_count": null,
   "metadata": {},
   "outputs": [],
   "source": [
    "rp = 5.0**2  # Noise of Position Measurement\n",
    "R = np.matrix([[rp, 0.0, 0.0],\n",
    "               [0.0, rp, 0.0],\n",
    "               [0.0, 0.0, rp]])\n",
    "print(R, R.shape)"
   ]
  },
  {
   "cell_type": "code",
   "execution_count": null,
   "metadata": {},
   "outputs": [],
   "source": [
    "fig = plt.figure(figsize=(4, 4))\n",
    "im = plt.imshow(R, interpolation=\"none\", cmap=plt.get_cmap('binary'))\n",
    "plt.title('Measurement Noise Covariance Matrix $R$')\n",
    "ylocs, ylabels = plt.yticks()\n",
    "# set the locations of the yticks\n",
    "plt.yticks(np.arange(4))\n",
    "# set the locations and labels of the yticks\n",
    "plt.yticks(np.arange(3),('$x$', '$y$', '$z$'), fontsize=22)\n",
    "\n",
    "xlocs, xlabels = plt.xticks()\n",
    "# set the locations of the yticks\n",
    "plt.xticks(np.arange(4))\n",
    "# set the locations and labels of the yticks\n",
    "plt.xticks(np.arange(3),('$x$', '$y$', '$z$'), fontsize=22)\n",
    "\n",
    "plt.xlim([-0.5,2.5])\n",
    "plt.ylim([2.5, -0.5])\n",
    "\n",
    "from mpl_toolkits.axes_grid1 import make_axes_locatable\n",
    "divider = make_axes_locatable(plt.gca())\n",
    "cax = divider.append_axes(\"right\", \"5%\", pad=\"3%\")\n",
    "plt.colorbar(im, cax=cax)\n",
    "\n",
    "plt.tight_layout()"
   ]
  },
  {
   "cell_type": "markdown",
   "metadata": {},
   "source": [
    "## Process Noise Covariance Matrix $Q$ for CA Model"
   ]
  },
  {
   "cell_type": "markdown",
   "metadata": {},
   "source": [
    "The Position of the ball can be influenced by a force (e.g. wind), which leads to an acceleration disturbance (noise). This process noise has to be modeled with the process noise covariance matrix Q.\n",
    "\n",
    "To easily calcualte Q, one can ask the question: How the noise effects my state vector? For example, how the acceleration change the position over one timestep dt.\n",
    "\n",
    "One can calculate Q as\n",
    "\n",
    "$$Q = G\\cdot G^T \\cdot \\sigma_a^2$$\n",
    "\n",
    "with $G = \\begin{bmatrix}0.5dt^2 & 0.5dt^2 & 0.5dt^2 & dt & dt & dt & 1.0 &1.0 & 1.0\\end{bmatrix}^T$ and $\\sigma_a$ as the acceleration process noise."
   ]
  },
  {
   "cell_type": "markdown",
   "metadata": {},
   "source": [
    "#### Symbolic Calculation"
   ]
  },
  {
   "cell_type": "code",
   "execution_count": null,
   "metadata": {},
   "outputs": [],
   "source": [
    "from sympy import Symbol, Matrix\n",
    "from sympy.interactive import printing\n",
    "printing.init_printing()\n",
    "dts = Symbol('\\Delta t')\n",
    "Qs = Matrix([[0.5*dts**2],[0.5*dts**2],[0.5*dts**2],[dts],[dts],[dts],[1.0],[1.0],[1.0]])\n",
    "Qs*Qs.T"
   ]
  },
  {
   "cell_type": "code",
   "execution_count": null,
   "metadata": {},
   "outputs": [],
   "source": [
    "sa = 0.5\n",
    "G = np.matrix([[1/2.0*dt**2],\n",
    "               [1/2.0*dt**2],\n",
    "               [1/2.0*dt**2],\n",
    "               [dt],\n",
    "               [dt],\n",
    "               [dt],\n",
    "               [1.0],\n",
    "               [1.0],\n",
    "               [22.0]])  # because we want to estimate g, \n",
    "                         # here we use a huge value to give the \n",
    "                         # Kalman Filter the possibility to\n",
    "                         # 'breath'\n",
    "Q = G*G.T*sa**2\n",
    "\n",
    "print(Q.shape)"
   ]
  },
  {
   "cell_type": "code",
   "execution_count": null,
   "metadata": {},
   "outputs": [],
   "source": [
    "Q"
   ]
  },
  {
   "cell_type": "code",
   "execution_count": null,
   "metadata": {},
   "outputs": [],
   "source": [
    "fig = plt.figure(figsize=(6, 6))\n",
    "im = plt.imshow(Q, interpolation=\"none\", cmap=plt.get_cmap('binary'))\n",
    "plt.title('Process Noise Covariance Matrix $Q$')\n",
    "ylocs, ylabels = plt.yticks()\n",
    "# set the locations of the yticks\n",
    "plt.yticks(np.arange(10))\n",
    "# set the locations and labels of the yticks\n",
    "plt.yticks(np.arange(9),('$x$', '$y$', '$z$', '$\\dot x$', '$\\dot y$', '$\\dot z$', '$\\ddot x$', '$\\ddot y$', '$\\ddot z$'), fontsize=22)\n",
    "\n",
    "xlocs, xlabels = plt.xticks()\n",
    "# set the locations of the yticks\n",
    "plt.xticks(np.arange(7))\n",
    "# set the locations and labels of the yticks\n",
    "plt.xticks(np.arange(9),('$x$', '$y$', '$z$', '$\\dot x$', '$\\dot y$', '$\\dot z$', '$\\ddot x$', '$\\ddot y$', '$\\ddot z$'), fontsize=22)\n",
    "\n",
    "plt.xlim([-0.5,8.5])\n",
    "plt.ylim([8.5, -0.5])\n",
    "\n",
    "from mpl_toolkits.axes_grid1 import make_axes_locatable\n",
    "divider = make_axes_locatable(plt.gca())\n",
    "cax = divider.append_axes(\"right\", \"5%\", pad=\"3%\")\n",
    "plt.colorbar(im, cax=cax)\n",
    "\n",
    "\n",
    "plt.tight_layout()"
   ]
  },
  {
   "cell_type": "markdown",
   "metadata": {},
   "source": [
    "## Identity Matrix"
   ]
  },
  {
   "cell_type": "code",
   "execution_count": null,
   "metadata": {},
   "outputs": [],
   "source": [
    "I = np.eye(9)\n",
    "print(I, I.shape)"
   ]
  },
  {
   "cell_type": "markdown",
   "metadata": {},
   "source": [
    "## Measurements"
   ]
  },
  {
   "cell_type": "markdown",
   "metadata": {},
   "source": [
    "Synthetically created Data of the Position of the Ball"
   ]
  },
  {
   "cell_type": "code",
   "execution_count": null,
   "metadata": {},
   "outputs": [],
   "source": [
    "data = pd.read_csv('weather-raw_2020.csv')\n",
    "data=data.fillna(0)\n",
    "data.head()"
   ]
  },
  {
   "cell_type": "code",
   "execution_count": null,
   "metadata": {},
   "outputs": [],
   "source": [
    "date=pd.to_datetime(data['Date']).values"
   ]
  },
  {
   "cell_type": "code",
   "execution_count": null,
   "metadata": {},
   "outputs": [],
   "source": [
    "frames=[data['Temp'],data['Humidity (%)'],data['Dew Point (Celcius * 10)'],data['Pressure (mBar)'],data['Mean wind speed (knots * 10)'],data['Average wind bearing (degrees)']]"
   ]
  },
  {
   "cell_type": "code",
   "execution_count": null,
   "metadata": {},
   "outputs": [],
   "source": [
    "data=pd.concat(frames, axis=1)\n",
    "Xm=data['Temp'].T.values\n",
    "Xm.shape"
   ]
  },
  {
   "cell_type": "markdown",
   "metadata": {},
   "source": [
    "m = Measurements, r= real values (unknown, just for plotting)"
   ]
  },
  {
   "cell_type": "code",
   "execution_count": null,
   "metadata": {},
   "outputs": [],
   "source": [
    "[Xm, Ym, Zm, Xr, Yr, Zr] = data.T.values\n",
    "Ym.shape"
   ]
  },
  {
   "cell_type": "code",
   "execution_count": null,
   "metadata": {},
   "outputs": [],
   "source": [
    "fig = plt.figure(figsize=(12,6))\n",
    "ax = fig.add_subplot(111, projection='3d')\n",
    "ax.scatter(Xm, Ym, Zm, c='gray')\n",
    "ax.set_xlabel('X')\n",
    "ax.set_ylabel('Y')\n",
    "ax.set_zlabel('Z')\n",
    "plt.title('Ball Trajectory observed from Computer Vision System (with Noise)')\n",
    "\n",
    "#ax.w_xaxis.set_pane_color((1.0, 1.0, 1.0, 1.0))\n",
    "\n",
    "# Axis equal\n",
    "max_range = np.array([Xm.max()-Xm.min(), Ym.max()-Ym.min(), Zm.max()-Zm.min()]).max() / 3.0\n",
    "mean_x = Xm.mean()\n",
    "mean_y = Ym.mean()\n",
    "mean_z = Zm.mean()\n",
    "ax.set_xlim(mean_x - max_range, mean_x + max_range)\n",
    "ax.set_ylim(mean_y - max_range, mean_y + max_range)\n",
    "ax.set_zlim(mean_z - max_range, mean_z + max_range)\n",
    "#plt.savefig('BallTrajectory-Computervision.png', dpi=150, bbox_inches='tight')"
   ]
  },
  {
   "cell_type": "code",
   "execution_count": null,
   "metadata": {},
   "outputs": [],
   "source": [
    "measurements = np.vstack((Xm,Ym,Zm))\n",
    "m = len(measurements[0]) # short it\n",
    "print(measurements.shape)"
   ]
  },
  {
   "cell_type": "markdown",
   "metadata": {},
   "source": [
    "#### Initial State"
   ]
  },
  {
   "cell_type": "code",
   "execution_count": null,
   "metadata": {},
   "outputs": [],
   "source": [
    "x = np.matrix([30.5, 36, 140.0, 10.0, 0.0, 0.0, 0.0, 0.0, -15.0]).T\n",
    "print(x, x.shape)"
   ]
  },
  {
   "cell_type": "code",
   "execution_count": null,
   "metadata": {},
   "outputs": [],
   "source": [
    "# Preallocation for Plotting\n",
    "xt = []\n",
    "yt = []\n",
    "zt = []\n",
    "dxt= []\n",
    "dyt= []\n",
    "dzt= []\n",
    "ddxt=[]\n",
    "ddyt=[]\n",
    "ddzt=[]\n",
    "Zx = []\n",
    "Zy = []\n",
    "Zz = []\n",
    "Px = []\n",
    "Py = []\n",
    "Pz = []\n",
    "Pdx= []\n",
    "Pdy= []\n",
    "Pdz= []\n",
    "Pddx=[]\n",
    "Pddy=[]\n",
    "Pddz=[]\n",
    "Kx = []\n",
    "Ky = []\n",
    "Kz = []\n",
    "Kdx= []\n",
    "Kdy= []\n",
    "Kdz= []\n",
    "Kddx=[]\n",
    "Kddy=[]\n",
    "Kddz=[]"
   ]
  },
  {
   "cell_type": "markdown",
   "metadata": {},
   "source": [
    "## Kalman Filter"
   ]
  },
  {
   "cell_type": "markdown",
   "metadata": {},
   "source": [
    "![Kalman Filter](Kalman-Filter-Step.png)"
   ]
  },
  {
   "cell_type": "code",
   "execution_count": null,
   "metadata": {},
   "outputs": [],
   "source": [
    "hitplate=False\n",
    "for filterstep in range(m):\n",
    "    \n",
    "    # Model the direction switch, when hitting the plate\n",
    "    if x[2]<0.01 and not hitplate:\n",
    "        x[5]=-x[5]\n",
    "        hitplate=True\n",
    "\n",
    "    \n",
    "    # Time Update (Prediction)\n",
    "    # ========================\n",
    "    # Project the state ahead\n",
    "    x = A*x #+ B*u # we have no Control Input\n",
    "    \n",
    "    # Project the error covariance ahead\n",
    "    P = A*P*A.T + Q    \n",
    "    \n",
    "    \n",
    "    # Measurement Update (Correction)\n",
    "    # ===============================\n",
    "    # Compute the Kalman Gain\n",
    "    S = H*P*H.T + R\n",
    "    K = (P*H.T) * np.linalg.pinv(S)\n",
    "\n",
    "    \n",
    "    # Update the estimate via z\n",
    "    Z = measurements[:,filterstep].reshape(H.shape[0],1)\n",
    "    y = Z - (H*x)                            # Innovation or Residual\n",
    "    x = x + (K*y)\n",
    "    \n",
    "    # Update the error covariance\n",
    "    P = (I - (K*H))*P\n",
    "    \n",
    "   \n",
    "    \n",
    "    # Save states for Plotting\n",
    "    xt.append(float(x[0]))\n",
    "    yt.append(float(x[1]))\n",
    "    zt.append(float(x[2]))\n",
    "    dxt.append(float(x[3]))\n",
    "    dyt.append(float(x[4]))\n",
    "    dzt.append(float(x[5]))\n",
    "    ddxt.append(float(x[6]))\n",
    "    ddyt.append(float(x[7]))\n",
    "    ddzt.append(float(x[8]))\n",
    "    \n",
    "    Zx.append(float(Z[0]))\n",
    "    Zy.append(float(Z[1]))\n",
    "    Zz.append(float(Z[2]))\n",
    "    Px.append(float(P[0,0]))\n",
    "    Py.append(float(P[1,1]))\n",
    "    Pz.append(float(P[2,2]))\n",
    "    Pdx.append(float(P[3,3]))\n",
    "    Pdy.append(float(P[4,4]))\n",
    "    Pdz.append(float(P[5,5]))\n",
    "    Pddx.append(float(P[6,6]))\n",
    "    Pddy.append(float(P[7,7]))\n",
    "    Pddz.append(float(P[8,8]))\n",
    "    Kx.append(float(K[0,0]))\n",
    "    Ky.append(float(K[1,0]))\n",
    "    Kz.append(float(K[2,0]))\n",
    "    Kdx.append(float(K[3,0]))\n",
    "    Kdy.append(float(K[4,0]))\n",
    "    Kdz.append(float(K[5,0]))\n",
    "    Kddx.append(float(K[6,0]))\n",
    "    Kddy.append(float(K[7,0]))\n",
    "    Kddz.append(float(K[8,0]))"
   ]
  },
  {
   "cell_type": "code",
   "execution_count": null,
   "metadata": {},
   "outputs": [],
   "source": []
  },
  {
   "cell_type": "markdown",
   "metadata": {},
   "source": [
    "# Plots"
   ]
  },
  {
   "cell_type": "markdown",
   "metadata": {},
   "source": [
    "## Estimated State"
   ]
  },
  {
   "cell_type": "code",
   "execution_count": null,
   "metadata": {},
   "outputs": [],
   "source": [
    "fig = plt.figure(figsize=(fw,9))\n",
    "plt.subplot(211)\n",
    "plt.title('Estimated State (elements from vector $x$)')\n",
    "plt.plot(range(len(measurements[0])),dxt, label='$\\dot x$')\n",
    "plt.plot(range(len(measurements[0])),dyt, label='$\\dot y$')\n",
    "plt.plot(range(len(measurements[0])),dzt, label='$\\dot z$')\n",
    "plt.legend(loc='best',prop={'size':22})\n",
    "\n",
    "plt.subplot(212)\n",
    "plt.plot(range(len(measurements[0])),ddxt, label='$\\ddot x$')\n",
    "plt.plot(range(len(measurements[0])),ddyt, label='$\\ddot y$')\n",
    "plt.plot(range(len(measurements[0])),ddzt, label='$\\ddot z$')\n",
    "\n",
    "plt.xlabel('Filter Step (100 = 1 Second)')\n",
    "plt.ylabel('$m/s^2$')\n",
    "plt.legend(loc='best',prop={'size':22})\n",
    "\n",
    "print('Estimated g= %.2f m/s2' % ddzt[-1])"
   ]
  },
  {
   "cell_type": "markdown",
   "metadata": {},
   "source": [
    "### Uncertainty"
   ]
  },
  {
   "cell_type": "code",
   "execution_count": null,
   "metadata": {},
   "outputs": [],
   "source": [
    "fig = plt.figure(figsize=(fw,9))\n",
    "plt.subplot(311)\n",
    "plt.plot(range(len(measurements[0])),Px, label='$x$')\n",
    "plt.plot(range(len(measurements[0])),Py, label='$y$')\n",
    "plt.plot(range(len(measurements[0])),Pz, label='$z$')\n",
    "plt.title('Uncertainty (Elements from Matrix $P$)')\n",
    "plt.legend(loc='best',prop={'size':22})\n",
    "plt.subplot(312)\n",
    "plt.plot(range(len(measurements[0])),Pdx, label='$\\dot x$')\n",
    "plt.plot(range(len(measurements[0])),Pdy, label='$\\dot y$')\n",
    "plt.plot(range(len(measurements[0])),Pdz, label='$\\dot z$')\n",
    "plt.legend(loc='best',prop={'size':22})\n",
    "\n",
    "plt.subplot(313)\n",
    "plt.plot(range(len(measurements[0])),Pddx, label='$\\ddot x$')\n",
    "plt.plot(range(len(measurements[0])),Pddy, label='$\\ddot y$')\n",
    "plt.plot(range(len(measurements[0])),Pddz, label='$\\ddot z$')\n",
    "\n",
    "plt.xlabel('Filter Step')\n",
    "plt.ylabel('')\n",
    "plt.legend(loc='best',prop={'size':22})"
   ]
  },
  {
   "cell_type": "markdown",
   "metadata": {},
   "source": [
    "### Kalman Gains"
   ]
  },
  {
   "cell_type": "code",
   "execution_count": null,
   "metadata": {},
   "outputs": [],
   "source": [
    "fig = plt.figure(figsize=(fw,9))\n",
    "plt.plot(range(len(measurements[0])),Kx, label='Kalman Gain for $x$')\n",
    "plt.plot(range(len(measurements[0])),Ky, label='Kalman Gain for $y$')\n",
    "plt.plot(range(len(measurements[0])),Kz, label='Kalman Gain for $z$')\n",
    "plt.plot(range(len(measurements[0])),Kdx, label='Kalman Gain for $\\dot x$')\n",
    "plt.plot(range(len(measurements[0])),Kdy, label='Kalman Gain for $\\dot y$')\n",
    "plt.plot(range(len(measurements[0])),Kdz, label='Kalman Gain for $\\dot z$')\n",
    "plt.plot(range(len(measurements[0])),Kddx, label='Kalman Gain for $\\ddot x$')\n",
    "plt.plot(range(len(measurements[0])),Kddy, label='Kalman Gain for $\\ddot y$')\n",
    "plt.plot(range(len(measurements[0])),Kddz, label='Kalman Gain for $\\ddot z$')\n",
    "\n",
    "plt.xlabel('Filter Step')\n",
    "plt.ylabel('')\n",
    "plt.title('Kalman Gain (the lower, the more the measurement fullfill the prediction)')\n",
    "plt.legend(loc='best',prop={'size':18});"
   ]
  },
  {
   "cell_type": "markdown",
   "metadata": {},
   "source": [
    "### Covariance Matrix"
   ]
  },
  {
   "cell_type": "code",
   "execution_count": null,
   "metadata": {},
   "outputs": [],
   "source": [
    "fig = plt.figure(figsize=(6, 6))\n",
    "im = plt.imshow(P, interpolation=\"none\", cmap=plt.get_cmap('binary'))\n",
    "plt.title('Covariance Matrix $P$ (after %i Filtersteps)' % m)\n",
    "ylocs, ylabels = plt.yticks()\n",
    "# set the locations of the yticks\n",
    "plt.yticks(np.arange(10))\n",
    "# set the locations and labels of the yticks\n",
    "plt.yticks(np.arange(9),('$x$', '$y$', '$z$', '$\\dot x$', '$\\dot y$', '$\\dot z$', '$\\ddot x$', '$\\ddot y$', '$\\ddot z$'), fontsize=22)\n",
    "\n",
    "xlocs, xlabels = plt.xticks()\n",
    "# set the locations of the yticks\n",
    "plt.xticks(np.arange(7))\n",
    "# set the locations and labels of the yticks\n",
    "plt.xticks(np.arange(9),('$x$', '$y$', '$z$', '$\\dot x$', '$\\dot y$', '$\\dot z$', '$\\ddot x$', '$\\ddot y$', '$\\ddot z$'), fontsize=22)\n",
    "\n",
    "plt.xlim([-0.5,8.5])\n",
    "plt.ylim([8.5, -0.5])\n",
    "\n",
    "from mpl_toolkits.axes_grid1 import make_axes_locatable\n",
    "divider = make_axes_locatable(plt.gca())\n",
    "cax = divider.append_axes(\"right\", \"5%\", pad=\"3%\")\n",
    "plt.colorbar(im, cax=cax)\n",
    "\n",
    "\n",
    "plt.tight_layout()"
   ]
  },
  {
   "cell_type": "markdown",
   "metadata": {},
   "source": [
    "## Position in x/z Plane"
   ]
  },
  {
   "cell_type": "code",
   "execution_count": null,
   "metadata": {},
   "outputs": [],
   "source": [
    "fig = plt.figure(figsize=(fw,4))\n",
    "\n",
    "plt.plot(xt,zt, label='Kalman Filter Estimate')\n",
    "plt.scatter(Xm,Zm, label='Measurements', c='gray', s=30)\n",
    "plt.plot(Xr, Zr, label='Real')\n",
    "plt.title('Estimate of Ball Trajectory (Elements from State Vector $x$)')\n",
    "plt.legend(loc='best',prop={'size':14})\n",
    "plt.axhline(0, color='k')\n",
    "plt.axis('equal')\n",
    "plt.xlabel('X ($m$)')\n",
    "plt.ylabel('Y ($m$)')\n",
    "plt.ylim([0, 1]);\n",
    "plt.savefig('Kalman-Filter-CA-Ball-StateEstimated.png', dpi=72, bbox_inches='tight')"
   ]
  },
  {
   "cell_type": "markdown",
   "metadata": {},
   "source": [
    "## Position in 3D"
   ]
  },
  {
   "cell_type": "code",
   "execution_count": null,
   "metadata": {},
   "outputs": [],
   "source": [
    "fig = plt.figure(figsize=(16,9))\n",
    "ax = fig.add_subplot(111, projection='3d')\n",
    "ax.plot(xt,yt,zt, label='Kalman Filter Estimate')\n",
    "ax.plot(Xr, Yr, Zr, label='Real')\n",
    "ax.set_xlabel('X')\n",
    "ax.set_ylabel('Y')\n",
    "ax.set_zlabel('Z')\n",
    "ax.legend()\n",
    "plt.title('Ball Trajectory estimated with Kalman Filter')\n",
    "\n",
    "# Axis equal\n",
    "max_range = np.array([Xm.max()-Xm.min(), Ym.max()-Ym.min(), Zm.max()-Zm.min()]).max() / 3.0\n",
    "mean_x = Xm.mean()\n",
    "mean_y = Ym.mean()\n",
    "mean_z = Zm.mean()\n",
    "ax.set_xlim(mean_x - max_range, mean_x + max_range)\n",
    "ax.set_ylim(mean_y - max_range, mean_y + max_range)\n",
    "ax.set_zlim(mean_z - max_range, mean_z + max_range)\n",
    "plt.savefig('Kalman-Filter-CA-Ball-Trajectory.png', dpi=150, bbox_inches='tight')"
   ]
  },
  {
   "cell_type": "markdown",
   "metadata": {},
   "source": [
    "# Conclusion"
   ]
  },
  {
   "cell_type": "code",
   "execution_count": null,
   "metadata": {},
   "outputs": [],
   "source": [
    "dist = np.sqrt((Xm-xt)**2 + (Ym-yt)**2 + (Zm-zt)**2)\n",
    "print('Estimated Position is %.2fm away from ball position.' % dist[-1])"
   ]
  },
  {
   "cell_type": "markdown",
   "metadata": {},
   "source": [
    "The Kalman Filter is just for linear dynamic systems. The drag resistance coefficient is nonlinear with a state, but the filter can handle this until a certain amount of drag.\n",
    "\n",
    "But at this time the ball is hitting the ground, the nonlinearity is too much and the filter is providing a wrong solution. Therefore, one have to model a switch in the filter loop, which helps the filter to get it."
   ]
  },
  {
   "cell_type": "code",
   "execution_count": null,
   "metadata": {},
   "outputs": [],
   "source": [
    "plt.plot(date,xt,date,Xm)"
   ]
  },
  {
   "cell_type": "code",
   "execution_count": null,
   "metadata": {},
   "outputs": [],
   "source": [
    "RMSE=mean_squared_error(Xm,xt, squared=False)"
   ]
  },
  {
   "cell_type": "code",
   "execution_count": null,
   "metadata": {},
   "outputs": [],
   "source": [
    "print(RMSE)"
   ]
  },
  {
   "cell_type": "code",
   "execution_count": null,
   "metadata": {},
   "outputs": [],
   "source": [
    "plt.plot(date,yt,date,Ym)"
   ]
  },
  {
   "cell_type": "code",
   "execution_count": null,
   "metadata": {},
   "outputs": [],
   "source": [
    "RMSE=mean_squared_error(Ym,yt, squared=False)"
   ]
  },
  {
   "cell_type": "code",
   "execution_count": null,
   "metadata": {},
   "outputs": [],
   "source": [
    "print(RMSE)"
   ]
  },
  {
   "cell_type": "code",
   "execution_count": null,
   "metadata": {},
   "outputs": [],
   "source": [
    "plt.plot(date,zt,date,Zm)"
   ]
  },
  {
   "cell_type": "code",
   "execution_count": null,
   "metadata": {},
   "outputs": [],
   "source": [
    "RMSE=mean_squared_error(Zm,zt, squared=False)\n",
    "print(RMSE)"
   ]
  },
  {
   "cell_type": "code",
   "execution_count": null,
   "metadata": {},
   "outputs": [],
   "source": [
    "Var_Temp=variance(Xm)\n",
    "Var_Temp_KF=variance(xt)\n",
    "print(Var_Temp,Var_Temp_KF)"
   ]
  },
  {
   "cell_type": "code",
   "execution_count": null,
   "metadata": {},
   "outputs": [],
   "source": [
    "Var_Humidity=variance(Ym)\n",
    "Var_Humidity_KF=variance(yt)\n",
    "print(Var_Humidity,Var_Humidity_KF)"
   ]
  },
  {
   "cell_type": "code",
   "execution_count": null,
   "metadata": {},
   "outputs": [],
   "source": [
    "Var_Dew_point=variance(Zm)\n",
    "Var_Dew_point_KF=variance(zt)\n",
    "print(Var_Dew_point,Var_Dew_point_KF)"
   ]
  },
  {
   "cell_type": "code",
   "execution_count": null,
   "metadata": {},
   "outputs": [],
   "source": [
    "xt"
   ]
  },
  {
   "cell_type": "code",
   "execution_count": null,
   "metadata": {},
   "outputs": [],
   "source": []
  }
 ],
 "metadata": {
  "kernelspec": {
   "display_name": "Python 3",
   "language": "python",
   "name": "python3"
  },
  "language_info": {
   "codemirror_mode": {
    "name": "ipython",
    "version": 3
   },
   "file_extension": ".py",
   "mimetype": "text/x-python",
   "name": "python",
   "nbconvert_exporter": "python",
   "pygments_lexer": "ipython3",
   "version": "3.8.5"
  }
 },
 "nbformat": 4,
 "nbformat_minor": 1
}
