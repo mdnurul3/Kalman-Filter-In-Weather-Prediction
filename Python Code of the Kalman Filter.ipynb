{
 "cells": [
  {
   "cell_type": "code",
   "execution_count": 301,
   "metadata": {},
   "outputs": [],
   "source": [
    "from numpy import dot\n",
    "def kf_predict(X, P, A, Q, B, U):\n",
    " X = dot(A, X) + dot(B, U)\n",
    " P = dot(A, dot(P, A.T)) + Q\n",
    " return(X,P) "
   ]
  },
  {
   "cell_type": "code",
   "execution_count": 302,
   "metadata": {},
   "outputs": [],
   "source": [
    "from numpy import dot, sum, tile, linalg\n",
    "from numpy.linalg import inv,det  \n",
    "import pandas as pd"
   ]
  },
  {
   "cell_type": "code",
   "execution_count": 303,
   "metadata": {},
   "outputs": [
    {
     "data": {
      "text/plain": [
       "Date                              0\n",
       "Temp                              0\n",
       "Humidity (%)                      0\n",
       "Dew Point (Celcius * 10)          0\n",
       "Pressure (mBar)                   0\n",
       "Mean wind speed (knots * 10)      0\n",
       "Average wind bearing (degrees)    0\n",
       "Sunshine (hours * 100)            0\n",
       "Rainfall (mm * 1000)              0\n",
       "dtype: int64"
      ]
     },
     "execution_count": 303,
     "metadata": {},
     "output_type": "execute_result"
    }
   ],
   "source": [
    "df=pd.read_csv('weather-raw_2020.csv')\n",
    "df=df.fillna(0)\n",
    "df.isnull().sum()"
   ]
  },
  {
   "cell_type": "code",
   "execution_count": 304,
   "metadata": {},
   "outputs": [],
   "source": [
    "df['Date']=pd.to_datetime(df['Date'])\n"
   ]
  },
  {
   "cell_type": "code",
   "execution_count": 305,
   "metadata": {},
   "outputs": [
    {
     "data": {
      "text/html": [
       "<div>\n",
       "<style scoped>\n",
       "    .dataframe tbody tr th:only-of-type {\n",
       "        vertical-align: middle;\n",
       "    }\n",
       "\n",
       "    .dataframe tbody tr th {\n",
       "        vertical-align: top;\n",
       "    }\n",
       "\n",
       "    .dataframe thead th {\n",
       "        text-align: right;\n",
       "    }\n",
       "</style>\n",
       "<table border=\"1\" class=\"dataframe\">\n",
       "  <thead>\n",
       "    <tr style=\"text-align: right;\">\n",
       "      <th></th>\n",
       "      <th>Temp</th>\n",
       "      <th>Humidity (%)</th>\n",
       "      <th>Dew Point (Celcius * 10)</th>\n",
       "      <th>Pressure (mBar)</th>\n",
       "      <th>Mean wind speed (knots * 10)</th>\n",
       "      <th>Average wind bearing (degrees)</th>\n",
       "      <th>Sunshine (hours * 100)</th>\n",
       "      <th>Rainfall (mm * 1000)</th>\n",
       "    </tr>\n",
       "  </thead>\n",
       "  <tbody>\n",
       "    <tr>\n",
       "      <th>0</th>\n",
       "      <td>30.5</td>\n",
       "      <td>36.0</td>\n",
       "      <td>140.0</td>\n",
       "      <td>1013.0</td>\n",
       "      <td>13.0</td>\n",
       "      <td>315.0</td>\n",
       "      <td>50</td>\n",
       "      <td>0</td>\n",
       "    </tr>\n",
       "    <tr>\n",
       "      <th>1</th>\n",
       "      <td>31.1</td>\n",
       "      <td>41.0</td>\n",
       "      <td>163.0</td>\n",
       "      <td>1013.0</td>\n",
       "      <td>12.0</td>\n",
       "      <td>315.0</td>\n",
       "      <td>51</td>\n",
       "      <td>0</td>\n",
       "    </tr>\n",
       "    <tr>\n",
       "      <th>2</th>\n",
       "      <td>32.2</td>\n",
       "      <td>43.0</td>\n",
       "      <td>181.0</td>\n",
       "      <td>1013.0</td>\n",
       "      <td>2.0</td>\n",
       "      <td>315.0</td>\n",
       "      <td>50</td>\n",
       "      <td>0</td>\n",
       "    </tr>\n",
       "  </tbody>\n",
       "</table>\n",
       "</div>"
      ],
      "text/plain": [
       "   Temp  Humidity (%)  Dew Point (Celcius * 10)  Pressure (mBar)  \\\n",
       "0  30.5          36.0                     140.0           1013.0   \n",
       "1  31.1          41.0                     163.0           1013.0   \n",
       "2  32.2          43.0                     181.0           1013.0   \n",
       "\n",
       "   Mean wind speed (knots * 10)  Average wind bearing (degrees)  \\\n",
       "0                          13.0                           315.0   \n",
       "1                          12.0                           315.0   \n",
       "2                           2.0                           315.0   \n",
       "\n",
       "   Sunshine (hours * 100)  Rainfall (mm * 1000)  \n",
       "0                      50                     0  \n",
       "1                      51                     0  \n",
       "2                      50                     0  "
      ]
     },
     "execution_count": 305,
     "metadata": {},
     "output_type": "execute_result"
    }
   ],
   "source": [
    "df=df.drop(['Date'],axis=1)\n",
    "df.head(3)"
   ]
  },
  {
   "cell_type": "code",
   "execution_count": 306,
   "metadata": {},
   "outputs": [],
   "source": [
    "#frames = [df['Temp'], df['Humidity (%)'], df['Dew Point (Celcius * 10)'],df['Pressure (mBar)']]\n",
    "frames = [df['Temp'], df['Humidity (%)']]"
   ]
  },
  {
   "cell_type": "code",
   "execution_count": 307,
   "metadata": {},
   "outputs": [
    {
     "data": {
      "text/html": [
       "<div>\n",
       "<style scoped>\n",
       "    .dataframe tbody tr th:only-of-type {\n",
       "        vertical-align: middle;\n",
       "    }\n",
       "\n",
       "    .dataframe tbody tr th {\n",
       "        vertical-align: top;\n",
       "    }\n",
       "\n",
       "    .dataframe thead th {\n",
       "        text-align: right;\n",
       "    }\n",
       "</style>\n",
       "<table border=\"1\" class=\"dataframe\">\n",
       "  <thead>\n",
       "    <tr style=\"text-align: right;\">\n",
       "      <th></th>\n",
       "      <th>Temp</th>\n",
       "      <th>Humidity (%)</th>\n",
       "    </tr>\n",
       "  </thead>\n",
       "  <tbody>\n",
       "    <tr>\n",
       "      <th>0</th>\n",
       "      <td>30.5</td>\n",
       "      <td>36.0</td>\n",
       "    </tr>\n",
       "    <tr>\n",
       "      <th>1</th>\n",
       "      <td>31.1</td>\n",
       "      <td>41.0</td>\n",
       "    </tr>\n",
       "  </tbody>\n",
       "</table>\n",
       "</div>"
      ],
      "text/plain": [
       "   Temp  Humidity (%)\n",
       "0  30.5          36.0\n",
       "1  31.1          41.0"
      ]
     },
     "execution_count": 307,
     "metadata": {},
     "output_type": "execute_result"
    }
   ],
   "source": [
    "result = pd.concat(frames, axis=1)\n",
    "result.head(2)"
   ]
  },
  {
   "cell_type": "code",
   "execution_count": 308,
   "metadata": {},
   "outputs": [],
   "source": [
    "Y_val=result.T.values\n",
    "#Y.reshape((2, 1))\n",
    "#Y=Y_val[:,0]\n",
    "Y=Y_val[:,0].reshape((2,1))"
   ]
  },
  {
   "cell_type": "code",
   "execution_count": 309,
   "metadata": {},
   "outputs": [],
   "source": [
    "def kf_update(X, P, Y, H, R):\n",
    " IM = dot(H, X)\n",
    " IS = R + dot(H, dot(P, H.T))\n",
    " K = dot(P, dot(H.T, inv(IS)))\n",
    " X = X + dot(K, (Y-IM))\n",
    " P = P - dot(K, dot(IS, K.T))\n",
    " LH = gauss_pdf(Y, IM, IS)\n",
    " return (X,P,K,IM,IS,LH) "
   ]
  },
  {
   "cell_type": "code",
   "execution_count": 310,
   "metadata": {},
   "outputs": [],
   "source": [
    "def gauss_pdf(X, M, S):\n",
    " if M.shape[1] == 1:\n",
    "  DX = X - tile(M, X.shape[1])\n",
    "  E = 0.5 * sum(DX * (dot(inv(S), DX)), axis=0)\n",
    "  E = E + 0.5 * M.shape[0] * log(2 * pi) + 0.5 * log(det(S))\n",
    "  P = exp(-E)\n",
    " elif X.shape()[1] == 1:\n",
    "  DX = tile(X, M.shape[1])- M\n",
    "  E = 0.5 * sum(DX * (dot(inv(S), DX)), axis=0)\n",
    "  E = E + 0.5 * M.shape[0] * log(2 * pi) + 0.5 * log(det(S))\n",
    "  P = exp(-E)\n",
    " else: \n",
    "  DX = X-M\n",
    "  E = 0.5 * dot(DX.T, dot(inv(S), DX))\n",
    "  E = E + 0.5 * M.shape[0] * log(2 * pi) + 0.5 * log(det(S))\n",
    "  P = exp(-E)\n",
    " return (P[0],E[0])"
   ]
  },
  {
   "cell_type": "code",
   "execution_count": 311,
   "metadata": {},
   "outputs": [],
   "source": [
    "from numpy import *\n",
    "import numpy as np\n",
    "from numpy.linalg import inv\n",
    "#time step of mobile movement\n",
    "dt = 0.1\n",
    "# Initialization of state matrices\n",
    "X = array([[30.0], [36.0], [140.1], [1013.0]])\n",
    "P = diag((0.01, 0.01, 0.01, 0.01))\n",
    "A = array([[1, 0, dt , 0], [0, 1, 0, dt], [0, 0, 1, 0], [0, 0, 0,\\\n",
    " 1]])\n",
    "Q = np.eye(4, dtype=int)\n",
    "B = np.eye(4, dtype=int)\n",
    "U = zeros((X.shape[0],1))"
   ]
  },
  {
   "cell_type": "code",
   "execution_count": 312,
   "metadata": {},
   "outputs": [
    {
     "data": {
      "text/plain": [
       "(4, 1)"
      ]
     },
     "execution_count": 312,
     "metadata": {},
     "output_type": "execute_result"
    }
   ],
   "source": [
    "X.shape"
   ]
  },
  {
   "cell_type": "code",
   "execution_count": 313,
   "metadata": {},
   "outputs": [
    {
     "data": {
      "text/plain": [
       "[<matplotlib.lines.Line2D at 0x27e5fd77070>]"
      ]
     },
     "execution_count": 313,
     "metadata": {},
     "output_type": "execute_result"
    },
    {
     "data": {
      "image/png": "[encoded data removed]",
      "text/plain": [
       "<Figure size 432x288 with 1 Axes>"
      ]
     },
     "metadata": {
      "needs_background": "light"
     },
     "output_type": "display_data"
    }
   ],
   "source": [
    "from numpy.random import randn\n",
    "import matplotlib.pyplot as plt\n",
    "# Measurement matrices\n",
    "\n",
    "\n",
    "H = array([[1, 0, 0, 0], [0, 1, 0, 0]])\n",
    "R = eye(Y.shape[0])\n",
    "# Number of iterations in Kalman Filter\n",
    "x_pos=[]\n",
    "y_pos=[]\n",
    "N_iter = 50\n",
    "# Applying the Kalman Filter\n",
    "for i in range(len(result)):\n",
    " (X, P) = kf_predict(X, P, A, Q, B, U)\n",
    " (X, P, K, IM, IS, LH) = kf_update(X, P, Y, H, R)\n",
    " Y=Y_val[:,i].reshape((2,1))\n",
    "x_pos.append(float(X[0]))\n",
    "y_pos.append(float(Y[0]))\n",
    "plt.plot(x_pos,y_pos)"
   ]
  },
  {
   "cell_type": "code",
   "execution_count": null,
   "metadata": {},
   "outputs": [],
   "source": []
  },
  {
   "cell_type": "code",
   "execution_count": null,
   "metadata": {},
   "outputs": [],
   "source": []
  }
 ],
 "metadata": {
  "kernelspec": {
   "display_name": "Python 3",
   "language": "python",
   "name": "python3"
  },
  "language_info": {
   "codemirror_mode": {
    "name": "ipython",
    "version": 3
   },
   "file_extension": ".py",
   "mimetype": "text/x-python",
   "name": "python",
   "nbconvert_exporter": "python",
   "pygments_lexer": "ipython3",
   "version": "3.8.5"
  }
 },
 "nbformat": 4,
 "nbformat_minor": 4
}
